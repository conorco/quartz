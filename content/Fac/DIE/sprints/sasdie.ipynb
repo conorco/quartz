{
 "cells": [
  {
   "cell_type": "code",
   "execution_count": 4,
   "id": "8cad1f5a-e73c-41f3-aab9-2c36357d8928",
   "metadata": {},
   "outputs": [
    {
     "name": "stdout",
     "output_type": "stream",
     "text": [
      "initialisation de sasdie\n",
      "la connexion à échoué\n",
      "Erreur d'appel, vérifiez vos paramètres ou votre connexion (Votre clé n'est pas valide)\n",
      "Erreur: position non postée !\n",
      "Erreur d'appel, vérifiez vos paramètres ou votre connexion (Votre clé n'est pas valide)\n",
      "Erreur: position non postée !\n"
     ]
    }
   ],
   "source": [
    "import sasdie\n",
    "sasdie.init()\n",
    "c = sasdie.Sasdie()\n",
    "c.setLogin(\"votre email\")\n",
    "c.setPasswd(\"votre numéro d’étudiants\")\n",
    "if c.connect() == False:\n",
    "    print (\"la connexion à échoué\")\n",
    "    exit(1)\n",
    "longitude0=-1.67883\n",
    "latitude0=48.11563\n",
    "if not c.publierCoordonneesGPS(\"longitude0\",\"latitude0\"):\n",
    "    print(\"Erreur: position non postée !\")\n",
    "longitude1=-1.67539\n",
    "latitude1=48.12344\n",
    "if not c.publierCoordonneesGPS(\"longitude1\",\"latitude1\"):\n",
    "    print(\"Erreur: position non postée !\")"
   ]
  }
 ],
 "metadata": {
  "kernelspec": {
   "display_name": "Python 3 (ipykernel)",
   "language": "python",
   "name": "python3"
  },
  "language_info": {
   "codemirror_mode": {
    "name": "ipython",
    "version": 3
   },
   "file_extension": ".py",
   "mimetype": "text/x-python",
   "name": "python",
   "nbconvert_exporter": "python",
   "pygments_lexer": "ipython3",
   "version": "3.9.5"
  }
 },
 "nbformat": 4,
 "nbformat_minor": 5
}
